{
 "cells": [
  {
   "cell_type": "markdown",
   "id": "545e9d12",
   "metadata": {
    "slideshow": {
     "slide_type": "slide"
    }
   },
   "source": [
    "# Application NutriScore"
   ]
  },
  {
   "cell_type": "markdown",
   "id": "5e872760",
   "metadata": {
    "slideshow": {
     "slide_type": "slide"
    }
   },
   "source": [
    "## Le pipeline de la donnée"
   ]
  },
  {
   "cell_type": "code",
   "execution_count": 1,
   "id": "a74996db",
   "metadata": {
    "scrolled": false,
    "slideshow": {
     "slide_type": "skip"
    }
   },
   "outputs": [],
   "source": [
    "import os\n",
    "import wget\n",
    "import pandas as pd\n",
    "import numpy as np\n",
    "import seaborn as sns\n",
    "from matplotlib import pyplot as plt\n",
    "from sklearn import metrics\n",
    "from sklearn.pipeline import Pipeline\n",
    "from sklearn import preprocessing\n",
    "from sklearn.model_selection import train_test_split\n",
    "from sklearn.impute import SimpleImputer\n",
    "from sklearn.preprocessing import StandardScaler, MinMaxScaler\n",
    "from sklearn.ensemble import RandomForestClassifier\n",
    "from sklearn.tree import DecisionTreeClassifier\n",
    "from sklearn.neighbors import KNeighborsClassifier\n",
    "from sklearn.model_selection import cross_val_score"
   ]
  },
  {
   "cell_type": "markdown",
   "id": "b649a1ab",
   "metadata": {
    "slideshow": {
     "slide_type": "subslide"
    }
   },
   "source": [
    "### La lecture du csv"
   ]
  },
  {
   "cell_type": "code",
   "execution_count": 2,
   "id": "915e2c8c",
   "metadata": {
    "scrolled": true,
    "slideshow": {
     "slide_type": "fragment"
    }
   },
   "outputs": [
    {
     "name": "stdout",
     "output_type": "stream",
     "text": [
      "Chargement du csv dans un DataFrame\n",
      "Nous avons gardé les 1000000 premières lignes du csv\n",
      "Le DataFrame contient 187 colonnes\n"
     ]
    }
   ],
   "source": [
    "csv_path = \"./en.openfoodfacts.org.products.csv\"\n",
    "csv_url = \"https://static.openfoodfacts.org/data/en.openfoodfacts.org.products.csv\"\n",
    "nb_lines = 1000000\n",
    "if not os.path.exists(csv_path):\n",
    "    print('downloading ', csv_url)\n",
    "    wget.download(csv_url,csv_path)\n",
    "    print('downloaded', csv_path)\n",
    "print(\"Chargement du csv dans un DataFrame\")\n",
    "df_csv = pd.read_csv(csv_path,sep='\\t', low_memory =False ,encoding='utf-8', nrows = nb_lines)\n",
    "print(\"Nous avons gardé les \"+ str(nb_lines)+\" premières lignes du csv\")\n",
    "nb_colonne_csv = len(df_csv.columns)\n",
    "print(\"Le DataFrame contient \" + str(nb_colonne_csv) + \" colonnes\" )"
   ]
  },
  {
   "cell_type": "markdown",
   "id": "1f992255",
   "metadata": {
    "slideshow": {
     "slide_type": "subslide"
    }
   },
   "source": [
    "### Suppression les colonnes inutiles\n",
    "\n",
    "Nos choix:\n",
    "\n",
    "    * Supprimer les colonnes vides\n",
    "    * Travailler sur les données quantitatives\n",
    "    * Uniquement les quantités pour 100g\n",
    "    * On garde la variable cible\n",
    "\n",
    "Filtrage à l'aide d'une regex"
   ]
  },
  {
   "cell_type": "code",
   "execution_count": 3,
   "id": "869919b8",
   "metadata": {
    "scrolled": true,
    "slideshow": {
     "slide_type": "skip"
    }
   },
   "outputs": [
    {
     "data": {
      "text/plain": [
       "d    144560\n",
       "c     91048\n",
       "e     81434\n",
       "a     74616\n",
       "b     55106\n",
       "Name: nutriscore_grade, dtype: int64"
      ]
     },
     "execution_count": 3,
     "metadata": {},
     "output_type": "execute_result"
    }
   ],
   "source": [
    "df_csv['nutriscore_grade'].value_counts()"
   ]
  },
  {
   "cell_type": "code",
   "execution_count": 4,
   "id": "2e56071c",
   "metadata": {
    "scrolled": false,
    "slideshow": {
     "slide_type": "fragment"
    }
   },
   "outputs": [
    {
     "name": "stdout",
     "output_type": "stream",
     "text": [
      "On a supprimé 41 colonnes vides\n",
      "On a supprimé 69 colonnes qualitatives\n",
      "Notre DataFrame n'a plus que 79 colonnes\n"
     ]
    }
   ],
   "source": [
    "# erase empty columns\n",
    "nb_colonne = len(df_csv.columns)\n",
    "df_csv.dropna(axis=1, how='all',inplace = True)\n",
    "print(\"On a supprimé \"+ str(nb_colonne - len(df_csv.columns)) + \" colonnes vides\")\n",
    "df_100g = df_csv.filter(regex=(\"_100g\"))\n",
    "# parmi les variables autres que les variables quantitatives on garde seulement le nutriscore\n",
    "df = df_csv[['nutriscore_grade','nutriscore_score']].join(df_100g)\n",
    "print(\"On a supprimé \"+ str(len(df_csv.columns) - len(df_100g.columns))+ \" colonnes qualitatives\")\n",
    "print(\"Notre DataFrame n'a plus que \" + str(len(df.columns)) + \" colonnes\") \n"
   ]
  },
  {
   "cell_type": "markdown",
   "id": "d5b19726",
   "metadata": {
    "slideshow": {
     "slide_type": "subslide"
    }
   },
   "source": [
    "### Suppression des lignes inutiles\n",
    "\n",
    "Nos choix:\n",
    "\n",
    "    * Supprimer les lignes vides\n",
    "    * Supprimer les lignes qui n'ont pas de variables explicatives\n",
    "    * Supprimer les doublons\n",
    "\n",
    "Beaucoup de doublons, de nombreux produits avec des appellations différentes partagent des compositions identiques"
   ]
  },
  {
   "cell_type": "code",
   "execution_count": 5,
   "id": "a03d04c1",
   "metadata": {
    "scrolled": false,
    "slideshow": {
     "slide_type": "fragment"
    }
   },
   "outputs": [
    {
     "name": "stdout",
     "output_type": "stream",
     "text": [
      "132471  lignes vides supprimées\n",
      "420765 enregistrements sans variable explicative\n",
      "Il reste 94011 doublons\n"
     ]
    }
   ],
   "source": [
    "nb_lignes = len(df)\n",
    "df.dropna(axis = 0, how = 'all', inplace = True)\n",
    "print(str(nb_lignes - len(df)), \" lignes vides supprimées\")\n",
    "nb_lignes = len(df)\n",
    "df.dropna(subset = ['nutriscore_grade', ], inplace = True)\n",
    "print(str(nb_lignes - len(df)) +\" enregistrements sans variable explicative\")\n",
    "print(\"Il reste \" + str(len(df[df.duplicated(keep=\"first\")])) + \" doublons\")\n",
    "df.drop_duplicates(keep=\"last\",inplace=True)\n",
    "df_car =df_csv.loc[(df_csv['energy-kcal_100g'] == 418.0) & (df_csv['energy_100g'] == 1749.0) & (df_csv['fat_100g'] == 12.5) & (df_csv['saturated-fat_100g'] == 7.0)]\n"
   ]
  },
  {
   "cell_type": "markdown",
   "id": "3b8204d2",
   "metadata": {
    "slideshow": {
     "slide_type": "subslide"
    }
   },
   "source": [
    "### Enregistrements qui partagent les mêmes valeurs sur les variables explicatives"
   ]
  },
  {
   "cell_type": "code",
   "execution_count": 6,
   "id": "521cf034",
   "metadata": {
    "slideshow": {
     "slide_type": "fragment"
    }
   },
   "outputs": [
    {
     "data": {
      "text/html": [
       "<div>\n",
       "<style scoped>\n",
       "    .dataframe tbody tr th:only-of-type {\n",
       "        vertical-align: middle;\n",
       "    }\n",
       "\n",
       "    .dataframe tbody tr th {\n",
       "        vertical-align: top;\n",
       "    }\n",
       "\n",
       "    .dataframe thead th {\n",
       "        text-align: right;\n",
       "    }\n",
       "</style>\n",
       "<table border=\"1\" class=\"dataframe\">\n",
       "  <thead>\n",
       "    <tr style=\"text-align: right;\">\n",
       "      <th></th>\n",
       "      <th>product_name</th>\n",
       "    </tr>\n",
       "  </thead>\n",
       "  <tbody>\n",
       "    <tr>\n",
       "      <th>547954</th>\n",
       "      <td>Caramel breton au beurre sale</td>\n",
       "    </tr>\n",
       "    <tr>\n",
       "      <th>754470</th>\n",
       "      <td>Caramel au beurre salé</td>\n",
       "    </tr>\n",
       "    <tr>\n",
       "      <th>754471</th>\n",
       "      <td>Caramel au beurre salé au sel de guerande</td>\n",
       "    </tr>\n",
       "    <tr>\n",
       "      <th>831135</th>\n",
       "      <td>Boite sucettes caramel papillote</td>\n",
       "    </tr>\n",
       "    <tr>\n",
       "      <th>831141</th>\n",
       "      <td>Caramel au beurre salé au sel de Guérande</td>\n",
       "    </tr>\n",
       "    <tr>\n",
       "      <th>...</th>\n",
       "      <td>...</td>\n",
       "    </tr>\n",
       "    <tr>\n",
       "      <th>999983</th>\n",
       "      <td>Caramels tendres au beurre salé</td>\n",
       "    </tr>\n",
       "    <tr>\n",
       "      <th>999986</th>\n",
       "      <td>Caramel pain d’épice</td>\n",
       "    </tr>\n",
       "    <tr>\n",
       "      <th>999989</th>\n",
       "      <td>Caramel pain d'épices</td>\n",
       "    </tr>\n",
       "    <tr>\n",
       "      <th>999991</th>\n",
       "      <td>Caramel pain d’epices</td>\n",
       "    </tr>\n",
       "    <tr>\n",
       "      <th>999993</th>\n",
       "      <td>Caramel beurre sale</td>\n",
       "    </tr>\n",
       "  </tbody>\n",
       "</table>\n",
       "<p>101 rows × 1 columns</p>\n",
       "</div>"
      ],
      "text/plain": [
       "                                     product_name\n",
       "547954              Caramel breton au beurre sale\n",
       "754470                     Caramel au beurre salé\n",
       "754471  Caramel au beurre salé au sel de guerande\n",
       "831135           Boite sucettes caramel papillote\n",
       "831141  Caramel au beurre salé au sel de Guérande\n",
       "...                                           ...\n",
       "999983            Caramels tendres au beurre salé\n",
       "999986                       Caramel pain d’épice\n",
       "999989                      Caramel pain d'épices\n",
       "999991                      Caramel pain d’epices\n",
       "999993                        Caramel beurre sale\n",
       "\n",
       "[101 rows x 1 columns]"
      ]
     },
     "execution_count": 6,
     "metadata": {},
     "output_type": "execute_result"
    }
   ],
   "source": [
    "pd.DataFrame(df_car['product_name'])"
   ]
  },
  {
   "cell_type": "markdown",
   "id": "f5a8557b",
   "metadata": {
    "slideshow": {
     "slide_type": "subslide"
    }
   },
   "source": [
    "### Suppression des colonnes restantes incomplètes\n",
    "\n",
    "Nos choix:\n",
    "    \n",
    "    * supprimer les colonnes qui ont plus de 25% de valeurs manquantes\n",
    "\n",
    "Le reste des colonnes seront complétées lors du preprocessing du pipeline du modèle"
   ]
  },
  {
   "cell_type": "code",
   "execution_count": 7,
   "id": "477b1cc2",
   "metadata": {
    "scrolled": false,
    "slideshow": {
     "slide_type": "fragment"
    }
   },
   "outputs": [
    {
     "name": "stdout",
     "output_type": "stream",
     "text": [
      "66 colonnes ont été supprimées\n"
     ]
    }
   ],
   "source": [
    "seuil_remplissage = 0.25\n",
    "useful_col = [col for col in df.columns if df[col].isna().mean() < seuil_remplissage]\n",
    "\n",
    "clean_df = df[useful_col]\n",
    "print(str(len(df.columns)- len(clean_df.columns)) + \" colonnes ont été supprimées\")"
   ]
  },
  {
   "cell_type": "markdown",
   "id": "353ec8da",
   "metadata": {
    "slideshow": {
     "slide_type": "subslide"
    }
   },
   "source": [
    "### Traitement des valeurs aberrantes \n",
    "\n"
   ]
  },
  {
   "cell_type": "code",
   "execution_count": 8,
   "id": "addac580",
   "metadata": {
    "scrolled": false,
    "slideshow": {
     "slide_type": "fragment"
    }
   },
   "outputs": [
    {
     "data": {
      "image/png": "[encoded data removed]",
      "text/plain": [
       "<Figure size 1152x288 with 2 Axes>"
      ]
     },
     "metadata": {
      "needs_background": "light"
     },
     "output_type": "display_data"
    }
   ],
   "source": [
    "sod_gr_3 = clean_df[(clean_df['sodium_100g'] != 0.0)]\n",
    "\n",
    "log_sod = np.log(sod_gr_3['sodium_100g'])\n",
    "sod_all_gr = clean_df[clean_df['sodium_100g'] != 0.0]\n",
    "fig, ax =plt.subplots(1,2)\n",
    "fig.set_size_inches(16,4)\n",
    "ax[0].title.set_text('Distribution du sodium (échelle logarithmique)')\n",
    "ax[1].title.set_text('Distribution du sodium en fonction des classes')\n",
    "hist_sod= sns.histplot(x=log_sod, ax=ax[0])\n",
    "\n",
    "\n",
    "box_sod= sns.boxplot(x=clean_df['nutriscore_grade'], y=np.log(sod_all_gr['sodium_100g']), ax=ax[1])\n",
    "plt.show()"
   ]
  },
  {
   "cell_type": "markdown",
   "id": "d90293e2",
   "metadata": {
    "slideshow": {
     "slide_type": "fragment"
    }
   },
   "source": [
    "L'analyse graphique des boxplots et des distributions: \n",
    "\n",
    "    * La présence de valeurs aberrantes\n",
    "    * Certaines variables ne suivent pas une distribution gaussienne\n",
    "    * Les boxplots ne donnent pas d'informations sur l'explicabilité d'une variable\n",
    "\n",
    "Une mise à l'échelle logarithmique peut faciliter la visualisation des distributions\n",
    "Le critère retenu se base sur l'IQR (InterQuartile Range), plus générale que le z-score"
   ]
  },
  {
   "cell_type": "code",
   "execution_count": 9,
   "id": "ac43b098",
   "metadata": {
    "scrolled": true,
    "slideshow": {
     "slide_type": "skip"
    }
   },
   "outputs": [],
   "source": [
    "encod_df = clean_df.copy()\n",
    "encoding = {\n",
    "    'a':5,\n",
    "    'b':4,  \n",
    "    'c':3,\n",
    "    'd':2,\n",
    "    'e':1,\n",
    "}\n",
    "\n",
    "encod_df['nutriscore_grade'] = clean_df['nutriscore_grade'].map(encoding)"
   ]
  },
  {
   "cell_type": "code",
   "execution_count": 10,
   "id": "97264c36",
   "metadata": {
    "scrolled": false,
    "slideshow": {
     "slide_type": "skip"
    }
   },
   "outputs": [],
   "source": [
    "def outlier_treatment(datacolumn):\n",
    "    Q1, Q3 = datacolumn.quantile([0.25,0.75])\n",
    "    IQR = Q3 - Q1\n",
    "    lower_range = Q1 - (1.5 * IQR)\n",
    "    upper_range = Q3 + (1.5 * IQR)\n",
    "    return lower_range,upper_range"
   ]
  },
  {
   "cell_type": "code",
   "execution_count": 11,
   "id": "12651ed1",
   "metadata": {
    "scrolled": false,
    "slideshow": {
     "slide_type": "fragment"
    }
   },
   "outputs": [
    {
     "name": "stdout",
     "output_type": "stream",
     "text": [
      "126654 lignes avec des valeurs aberrantes supprimées\n"
     ]
    }
   ],
   "source": [
    "nbre_lignes = len(encod_df)\n",
    "\n",
    "for col in encod_df.columns:\n",
    "    low, up = outlier_treatment(encod_df[col])\n",
    "    index_list = encod_df[(encod_df[col] > up) | (encod_df[col] < low)].index\n",
    "    clean_df = clean_df.drop(index_list)\n",
    "    encod_df = encod_df.drop(index_list)\n",
    "    # on copie dans un nouveau dataframe pour éviter de supprimer des valeurs à chaque fois\n",
    "print(str(nbre_lignes - len(encod_df)) + \" lignes avec des valeurs aberrantes supprimées\")"
   ]
  },
  {
   "cell_type": "code",
   "execution_count": 12,
   "id": "77dda143",
   "metadata": {
    "slideshow": {
     "slide_type": "skip"
    }
   },
   "outputs": [
    {
     "data": {
      "text/html": [
       "<div>\n",
       "<style scoped>\n",
       "    .dataframe tbody tr th:only-of-type {\n",
       "        vertical-align: middle;\n",
       "    }\n",
       "\n",
       "    .dataframe tbody tr th {\n",
       "        vertical-align: top;\n",
       "    }\n",
       "\n",
       "    .dataframe thead th {\n",
       "        text-align: right;\n",
       "    }\n",
       "</style>\n",
       "<table border=\"1\" class=\"dataframe\">\n",
       "  <thead>\n",
       "    <tr style=\"text-align: right;\">\n",
       "      <th></th>\n",
       "      <th>nutriscore_score</th>\n",
       "      <th>energy-kcal_100g</th>\n",
       "      <th>energy_100g</th>\n",
       "      <th>fat_100g</th>\n",
       "      <th>saturated-fat_100g</th>\n",
       "      <th>carbohydrates_100g</th>\n",
       "      <th>sugars_100g</th>\n",
       "      <th>proteins_100g</th>\n",
       "      <th>salt_100g</th>\n",
       "      <th>sodium_100g</th>\n",
       "      <th>fruits-vegetables-nuts-estimate-from-ingredients_100g</th>\n",
       "      <th>nutrition-score-fr_100g</th>\n",
       "    </tr>\n",
       "  </thead>\n",
       "  <tbody>\n",
       "    <tr>\n",
       "      <th>count</th>\n",
       "      <td>226099.000000</td>\n",
       "      <td>217854.000000</td>\n",
       "      <td>225961.000000</td>\n",
       "      <td>225963.000000</td>\n",
       "      <td>225944.000000</td>\n",
       "      <td>225905.000000</td>\n",
       "      <td>225953.000000</td>\n",
       "      <td>225964.000000</td>\n",
       "      <td>226058.000000</td>\n",
       "      <td>226058.000000</td>\n",
       "      <td>178472.000000</td>\n",
       "      <td>226099.000000</td>\n",
       "    </tr>\n",
       "    <tr>\n",
       "      <th>mean</th>\n",
       "      <td>7.882485</td>\n",
       "      <td>244.898262</td>\n",
       "      <td>1020.586513</td>\n",
       "      <td>10.733555</td>\n",
       "      <td>3.702497</td>\n",
       "      <td>28.517459</td>\n",
       "      <td>9.472068</td>\n",
       "      <td>8.115897</td>\n",
       "      <td>0.855777</td>\n",
       "      <td>0.342316</td>\n",
       "      <td>0.389124</td>\n",
       "      <td>7.882485</td>\n",
       "    </tr>\n",
       "    <tr>\n",
       "      <th>std</th>\n",
       "      <td>8.420734</td>\n",
       "      <td>153.251824</td>\n",
       "      <td>639.690361</td>\n",
       "      <td>10.603001</td>\n",
       "      <td>4.360263</td>\n",
       "      <td>25.738558</td>\n",
       "      <td>12.002416</td>\n",
       "      <td>6.401238</td>\n",
       "      <td>0.722264</td>\n",
       "      <td>0.288907</td>\n",
       "      <td>1.418303</td>\n",
       "      <td>8.420734</td>\n",
       "    </tr>\n",
       "    <tr>\n",
       "      <th>min</th>\n",
       "      <td>-15.000000</td>\n",
       "      <td>0.000000</td>\n",
       "      <td>0.000000</td>\n",
       "      <td>0.000000</td>\n",
       "      <td>0.000000</td>\n",
       "      <td>-0.500000</td>\n",
       "      <td>-0.500000</td>\n",
       "      <td>0.000000</td>\n",
       "      <td>0.000000</td>\n",
       "      <td>0.000000</td>\n",
       "      <td>0.000000</td>\n",
       "      <td>-15.000000</td>\n",
       "    </tr>\n",
       "    <tr>\n",
       "      <th>25%</th>\n",
       "      <td>1.000000</td>\n",
       "      <td>110.000000</td>\n",
       "      <td>460.000000</td>\n",
       "      <td>1.790000</td>\n",
       "      <td>0.100000</td>\n",
       "      <td>5.420000</td>\n",
       "      <td>0.800000</td>\n",
       "      <td>3.330000</td>\n",
       "      <td>0.166667</td>\n",
       "      <td>0.066667</td>\n",
       "      <td>0.000000</td>\n",
       "      <td>1.000000</td>\n",
       "    </tr>\n",
       "    <tr>\n",
       "      <th>50%</th>\n",
       "      <td>7.000000</td>\n",
       "      <td>233.000000</td>\n",
       "      <td>967.000000</td>\n",
       "      <td>7.500000</td>\n",
       "      <td>2.000000</td>\n",
       "      <td>19.620000</td>\n",
       "      <td>3.570000</td>\n",
       "      <td>6.670000</td>\n",
       "      <td>0.770000</td>\n",
       "      <td>0.308000</td>\n",
       "      <td>0.000000</td>\n",
       "      <td>7.000000</td>\n",
       "    </tr>\n",
       "    <tr>\n",
       "      <th>75%</th>\n",
       "      <td>15.000000</td>\n",
       "      <td>367.000000</td>\n",
       "      <td>1527.000000</td>\n",
       "      <td>17.500000</td>\n",
       "      <td>5.900000</td>\n",
       "      <td>51.160000</td>\n",
       "      <td>14.400000</td>\n",
       "      <td>12.000000</td>\n",
       "      <td>1.315000</td>\n",
       "      <td>0.526000</td>\n",
       "      <td>0.000000</td>\n",
       "      <td>15.000000</td>\n",
       "    </tr>\n",
       "    <tr>\n",
       "      <th>max</th>\n",
       "      <td>36.000000</td>\n",
       "      <td>821.000000</td>\n",
       "      <td>3435.000000</td>\n",
       "      <td>51.610000</td>\n",
       "      <td>17.500000</td>\n",
       "      <td>100.000000</td>\n",
       "      <td>47.170000</td>\n",
       "      <td>26.300000</td>\n",
       "      <td>2.997500</td>\n",
       "      <td>1.199000</td>\n",
       "      <td>8.320000</td>\n",
       "      <td>36.000000</td>\n",
       "    </tr>\n",
       "  </tbody>\n",
       "</table>\n",
       "</div>"
      ],
      "text/plain": [
       "       nutriscore_score  energy-kcal_100g    energy_100g       fat_100g  \\\n",
       "count     226099.000000     217854.000000  225961.000000  225963.000000   \n",
       "mean           7.882485        244.898262    1020.586513      10.733555   \n",
       "std            8.420734        153.251824     639.690361      10.603001   \n",
       "min          -15.000000          0.000000       0.000000       0.000000   \n",
       "25%            1.000000        110.000000     460.000000       1.790000   \n",
       "50%            7.000000        233.000000     967.000000       7.500000   \n",
       "75%           15.000000        367.000000    1527.000000      17.500000   \n",
       "max           36.000000        821.000000    3435.000000      51.610000   \n",
       "\n",
       "       saturated-fat_100g  carbohydrates_100g    sugars_100g  proteins_100g  \\\n",
       "count       225944.000000       225905.000000  225953.000000  225964.000000   \n",
       "mean             3.702497           28.517459       9.472068       8.115897   \n",
       "std              4.360263           25.738558      12.002416       6.401238   \n",
       "min              0.000000           -0.500000      -0.500000       0.000000   \n",
       "25%              0.100000            5.420000       0.800000       3.330000   \n",
       "50%              2.000000           19.620000       3.570000       6.670000   \n",
       "75%              5.900000           51.160000      14.400000      12.000000   \n",
       "max             17.500000          100.000000      47.170000      26.300000   \n",
       "\n",
       "           salt_100g    sodium_100g  \\\n",
       "count  226058.000000  226058.000000   \n",
       "mean        0.855777       0.342316   \n",
       "std         0.722264       0.288907   \n",
       "min         0.000000       0.000000   \n",
       "25%         0.166667       0.066667   \n",
       "50%         0.770000       0.308000   \n",
       "75%         1.315000       0.526000   \n",
       "max         2.997500       1.199000   \n",
       "\n",
       "       fruits-vegetables-nuts-estimate-from-ingredients_100g  \\\n",
       "count                                      178472.000000       \n",
       "mean                                            0.389124       \n",
       "std                                             1.418303       \n",
       "min                                             0.000000       \n",
       "25%                                             0.000000       \n",
       "50%                                             0.000000       \n",
       "75%                                             0.000000       \n",
       "max                                             8.320000       \n",
       "\n",
       "       nutrition-score-fr_100g  \n",
       "count            226099.000000  \n",
       "mean                  7.882485  \n",
       "std                   8.420734  \n",
       "min                 -15.000000  \n",
       "25%                   1.000000  \n",
       "50%                   7.000000  \n",
       "75%                  15.000000  \n",
       "max                  36.000000  "
      ]
     },
     "execution_count": 12,
     "metadata": {},
     "output_type": "execute_result"
    }
   ],
   "source": [
    "clean_df.describe()"
   ]
  },
  {
   "cell_type": "code",
   "execution_count": 13,
   "id": "21226e5d",
   "metadata": {
    "scrolled": false,
    "slideshow": {
     "slide_type": "skip"
    }
   },
   "outputs": [
    {
     "data": {
      "text/html": [
       "<div>\n",
       "<style scoped>\n",
       "    .dataframe tbody tr th:only-of-type {\n",
       "        vertical-align: middle;\n",
       "    }\n",
       "\n",
       "    .dataframe tbody tr th {\n",
       "        vertical-align: top;\n",
       "    }\n",
       "\n",
       "    .dataframe thead th {\n",
       "        text-align: right;\n",
       "    }\n",
       "</style>\n",
       "<table border=\"1\" class=\"dataframe\">\n",
       "  <thead>\n",
       "    <tr style=\"text-align: right;\">\n",
       "      <th></th>\n",
       "      <th>nutriscore_grade</th>\n",
       "      <th>nutriscore_score</th>\n",
       "      <th>energy-kcal_100g</th>\n",
       "      <th>energy_100g</th>\n",
       "      <th>fat_100g</th>\n",
       "      <th>saturated-fat_100g</th>\n",
       "      <th>carbohydrates_100g</th>\n",
       "      <th>sugars_100g</th>\n",
       "      <th>proteins_100g</th>\n",
       "      <th>salt_100g</th>\n",
       "      <th>sodium_100g</th>\n",
       "      <th>fruits-vegetables-nuts-estimate-from-ingredients_100g</th>\n",
       "      <th>nutrition-score-fr_100g</th>\n",
       "    </tr>\n",
       "  </thead>\n",
       "  <tbody>\n",
       "    <tr>\n",
       "      <th>nutriscore_grade</th>\n",
       "      <td>1.000000</td>\n",
       "      <td>-0.945694</td>\n",
       "      <td>-0.469062</td>\n",
       "      <td>-0.468681</td>\n",
       "      <td>-0.574357</td>\n",
       "      <td>-0.637139</td>\n",
       "      <td>-0.173927</td>\n",
       "      <td>-0.452791</td>\n",
       "      <td>0.064314</td>\n",
       "      <td>-0.381479</td>\n",
       "      <td>-0.381475</td>\n",
       "      <td>-0.005428</td>\n",
       "      <td>-0.945694</td>\n",
       "    </tr>\n",
       "    <tr>\n",
       "      <th>nutriscore_score</th>\n",
       "      <td>-0.945694</td>\n",
       "      <td>1.000000</td>\n",
       "      <td>0.569372</td>\n",
       "      <td>0.569924</td>\n",
       "      <td>0.657657</td>\n",
       "      <td>0.733035</td>\n",
       "      <td>0.241416</td>\n",
       "      <td>0.513179</td>\n",
       "      <td>-0.035161</td>\n",
       "      <td>0.405859</td>\n",
       "      <td>0.405862</td>\n",
       "      <td>-0.004788</td>\n",
       "      <td>1.000000</td>\n",
       "    </tr>\n",
       "    <tr>\n",
       "      <th>energy-kcal_100g</th>\n",
       "      <td>-0.469062</td>\n",
       "      <td>0.569372</td>\n",
       "      <td>1.000000</td>\n",
       "      <td>0.997222</td>\n",
       "      <td>0.720487</td>\n",
       "      <td>0.510638</td>\n",
       "      <td>0.703009</td>\n",
       "      <td>0.393622</td>\n",
       "      <td>0.210920</td>\n",
       "      <td>0.226857</td>\n",
       "      <td>0.226849</td>\n",
       "      <td>-0.035643</td>\n",
       "      <td>0.569372</td>\n",
       "    </tr>\n",
       "    <tr>\n",
       "      <th>energy_100g</th>\n",
       "      <td>-0.468681</td>\n",
       "      <td>0.569924</td>\n",
       "      <td>0.997222</td>\n",
       "      <td>1.000000</td>\n",
       "      <td>0.719355</td>\n",
       "      <td>0.510286</td>\n",
       "      <td>0.703504</td>\n",
       "      <td>0.394014</td>\n",
       "      <td>0.205900</td>\n",
       "      <td>0.224284</td>\n",
       "      <td>0.224284</td>\n",
       "      <td>-0.036991</td>\n",
       "      <td>0.569924</td>\n",
       "    </tr>\n",
       "    <tr>\n",
       "      <th>fat_100g</th>\n",
       "      <td>-0.574357</td>\n",
       "      <td>0.657657</td>\n",
       "      <td>0.720487</td>\n",
       "      <td>0.719355</td>\n",
       "      <td>1.000000</td>\n",
       "      <td>0.730540</td>\n",
       "      <td>0.130314</td>\n",
       "      <td>0.171877</td>\n",
       "      <td>0.201097</td>\n",
       "      <td>0.320919</td>\n",
       "      <td>0.320916</td>\n",
       "      <td>0.019644</td>\n",
       "      <td>0.657657</td>\n",
       "    </tr>\n",
       "    <tr>\n",
       "      <th>saturated-fat_100g</th>\n",
       "      <td>-0.637139</td>\n",
       "      <td>0.733035</td>\n",
       "      <td>0.510638</td>\n",
       "      <td>0.510286</td>\n",
       "      <td>0.730540</td>\n",
       "      <td>1.000000</td>\n",
       "      <td>0.066761</td>\n",
       "      <td>0.292478</td>\n",
       "      <td>0.147157</td>\n",
       "      <td>0.165983</td>\n",
       "      <td>0.165980</td>\n",
       "      <td>-0.017255</td>\n",
       "      <td>0.733035</td>\n",
       "    </tr>\n",
       "    <tr>\n",
       "      <th>carbohydrates_100g</th>\n",
       "      <td>-0.173927</td>\n",
       "      <td>0.241416</td>\n",
       "      <td>0.703009</td>\n",
       "      <td>0.703504</td>\n",
       "      <td>0.130314</td>\n",
       "      <td>0.066761</td>\n",
       "      <td>1.000000</td>\n",
       "      <td>0.529807</td>\n",
       "      <td>-0.131955</td>\n",
       "      <td>-0.049158</td>\n",
       "      <td>-0.049145</td>\n",
       "      <td>-0.058849</td>\n",
       "      <td>0.241416</td>\n",
       "    </tr>\n",
       "    <tr>\n",
       "      <th>sugars_100g</th>\n",
       "      <td>-0.452791</td>\n",
       "      <td>0.513179</td>\n",
       "      <td>0.393622</td>\n",
       "      <td>0.394014</td>\n",
       "      <td>0.171877</td>\n",
       "      <td>0.292478</td>\n",
       "      <td>0.529807</td>\n",
       "      <td>1.000000</td>\n",
       "      <td>-0.315899</td>\n",
       "      <td>-0.229545</td>\n",
       "      <td>-0.229547</td>\n",
       "      <td>0.022382</td>\n",
       "      <td>0.513179</td>\n",
       "    </tr>\n",
       "    <tr>\n",
       "      <th>proteins_100g</th>\n",
       "      <td>0.064314</td>\n",
       "      <td>-0.035161</td>\n",
       "      <td>0.210920</td>\n",
       "      <td>0.205900</td>\n",
       "      <td>0.201097</td>\n",
       "      <td>0.147157</td>\n",
       "      <td>-0.131955</td>\n",
       "      <td>-0.315899</td>\n",
       "      <td>1.000000</td>\n",
       "      <td>0.325936</td>\n",
       "      <td>0.325935</td>\n",
       "      <td>-0.057988</td>\n",
       "      <td>-0.035161</td>\n",
       "    </tr>\n",
       "    <tr>\n",
       "      <th>salt_100g</th>\n",
       "      <td>-0.381479</td>\n",
       "      <td>0.405859</td>\n",
       "      <td>0.226857</td>\n",
       "      <td>0.224284</td>\n",
       "      <td>0.320919</td>\n",
       "      <td>0.165983</td>\n",
       "      <td>-0.049158</td>\n",
       "      <td>-0.229545</td>\n",
       "      <td>0.325936</td>\n",
       "      <td>1.000000</td>\n",
       "      <td>0.999990</td>\n",
       "      <td>-0.006978</td>\n",
       "      <td>0.405859</td>\n",
       "    </tr>\n",
       "    <tr>\n",
       "      <th>sodium_100g</th>\n",
       "      <td>-0.381475</td>\n",
       "      <td>0.405862</td>\n",
       "      <td>0.226849</td>\n",
       "      <td>0.224284</td>\n",
       "      <td>0.320916</td>\n",
       "      <td>0.165980</td>\n",
       "      <td>-0.049145</td>\n",
       "      <td>-0.229547</td>\n",
       "      <td>0.325935</td>\n",
       "      <td>0.999990</td>\n",
       "      <td>1.000000</td>\n",
       "      <td>-0.006954</td>\n",
       "      <td>0.405862</td>\n",
       "    </tr>\n",
       "    <tr>\n",
       "      <th>fruits-vegetables-nuts-estimate-from-ingredients_100g</th>\n",
       "      <td>-0.005428</td>\n",
       "      <td>-0.004788</td>\n",
       "      <td>-0.035643</td>\n",
       "      <td>-0.036991</td>\n",
       "      <td>0.019644</td>\n",
       "      <td>-0.017255</td>\n",
       "      <td>-0.058849</td>\n",
       "      <td>0.022382</td>\n",
       "      <td>-0.057988</td>\n",
       "      <td>-0.006978</td>\n",
       "      <td>-0.006954</td>\n",
       "      <td>1.000000</td>\n",
       "      <td>-0.004788</td>\n",
       "    </tr>\n",
       "    <tr>\n",
       "      <th>nutrition-score-fr_100g</th>\n",
       "      <td>-0.945694</td>\n",
       "      <td>1.000000</td>\n",
       "      <td>0.569372</td>\n",
       "      <td>0.569924</td>\n",
       "      <td>0.657657</td>\n",
       "      <td>0.733035</td>\n",
       "      <td>0.241416</td>\n",
       "      <td>0.513179</td>\n",
       "      <td>-0.035161</td>\n",
       "      <td>0.405859</td>\n",
       "      <td>0.405862</td>\n",
       "      <td>-0.004788</td>\n",
       "      <td>1.000000</td>\n",
       "    </tr>\n",
       "  </tbody>\n",
       "</table>\n",
       "</div>"
      ],
      "text/plain": [
       "                                                    nutriscore_grade  \\\n",
       "nutriscore_grade                                            1.000000   \n",
       "nutriscore_score                                           -0.945694   \n",
       "energy-kcal_100g                                           -0.469062   \n",
       "energy_100g                                                -0.468681   \n",
       "fat_100g                                                   -0.574357   \n",
       "saturated-fat_100g                                         -0.637139   \n",
       "carbohydrates_100g                                         -0.173927   \n",
       "sugars_100g                                                -0.452791   \n",
       "proteins_100g                                               0.064314   \n",
       "salt_100g                                                  -0.381479   \n",
       "sodium_100g                                                -0.381475   \n",
       "fruits-vegetables-nuts-estimate-from-ingredient...         -0.005428   \n",
       "nutrition-score-fr_100g                                    -0.945694   \n",
       "\n",
       "                                                    nutriscore_score  \\\n",
       "nutriscore_grade                                           -0.945694   \n",
       "nutriscore_score                                            1.000000   \n",
       "energy-kcal_100g                                            0.569372   \n",
       "energy_100g                                                 0.569924   \n",
       "fat_100g                                                    0.657657   \n",
       "saturated-fat_100g                                          0.733035   \n",
       "carbohydrates_100g                                          0.241416   \n",
       "sugars_100g                                                 0.513179   \n",
       "proteins_100g                                              -0.035161   \n",
       "salt_100g                                                   0.405859   \n",
       "sodium_100g                                                 0.405862   \n",
       "fruits-vegetables-nuts-estimate-from-ingredient...         -0.004788   \n",
       "nutrition-score-fr_100g                                     1.000000   \n",
       "\n",
       "                                                    energy-kcal_100g  \\\n",
       "nutriscore_grade                                           -0.469062   \n",
       "nutriscore_score                                            0.569372   \n",
       "energy-kcal_100g                                            1.000000   \n",
       "energy_100g                                                 0.997222   \n",
       "fat_100g                                                    0.720487   \n",
       "saturated-fat_100g                                          0.510638   \n",
       "carbohydrates_100g                                          0.703009   \n",
       "sugars_100g                                                 0.393622   \n",
       "proteins_100g                                               0.210920   \n",
       "salt_100g                                                   0.226857   \n",
       "sodium_100g                                                 0.226849   \n",
       "fruits-vegetables-nuts-estimate-from-ingredient...         -0.035643   \n",
       "nutrition-score-fr_100g                                     0.569372   \n",
       "\n",
       "                                                    energy_100g  fat_100g  \\\n",
       "nutriscore_grade                                      -0.468681 -0.574357   \n",
       "nutriscore_score                                       0.569924  0.657657   \n",
       "energy-kcal_100g                                       0.997222  0.720487   \n",
       "energy_100g                                            1.000000  0.719355   \n",
       "fat_100g                                               0.719355  1.000000   \n",
       "saturated-fat_100g                                     0.510286  0.730540   \n",
       "carbohydrates_100g                                     0.703504  0.130314   \n",
       "sugars_100g                                            0.394014  0.171877   \n",
       "proteins_100g                                          0.205900  0.201097   \n",
       "salt_100g                                              0.224284  0.320919   \n",
       "sodium_100g                                            0.224284  0.320916   \n",
       "fruits-vegetables-nuts-estimate-from-ingredient...    -0.036991  0.019644   \n",
       "nutrition-score-fr_100g                                0.569924  0.657657   \n",
       "\n",
       "                                                    saturated-fat_100g  \\\n",
       "nutriscore_grade                                             -0.637139   \n",
       "nutriscore_score                                              0.733035   \n",
       "energy-kcal_100g                                              0.510638   \n",
       "energy_100g                                                   0.510286   \n",
       "fat_100g                                                      0.730540   \n",
       "saturated-fat_100g                                            1.000000   \n",
       "carbohydrates_100g                                            0.066761   \n",
       "sugars_100g                                                   0.292478   \n",
       "proteins_100g                                                 0.147157   \n",
       "salt_100g                                                     0.165983   \n",
       "sodium_100g                                                   0.165980   \n",
       "fruits-vegetables-nuts-estimate-from-ingredient...           -0.017255   \n",
       "nutrition-score-fr_100g                                       0.733035   \n",
       "\n",
       "                                                    carbohydrates_100g  \\\n",
       "nutriscore_grade                                             -0.173927   \n",
       "nutriscore_score                                              0.241416   \n",
       "energy-kcal_100g                                              0.703009   \n",
       "energy_100g                                                   0.703504   \n",
       "fat_100g                                                      0.130314   \n",
       "saturated-fat_100g                                            0.066761   \n",
       "carbohydrates_100g                                            1.000000   \n",
       "sugars_100g                                                   0.529807   \n",
       "proteins_100g                                                -0.131955   \n",
       "salt_100g                                                    -0.049158   \n",
       "sodium_100g                                                  -0.049145   \n",
       "fruits-vegetables-nuts-estimate-from-ingredient...           -0.058849   \n",
       "nutrition-score-fr_100g                                       0.241416   \n",
       "\n",
       "                                                    sugars_100g  \\\n",
       "nutriscore_grade                                      -0.452791   \n",
       "nutriscore_score                                       0.513179   \n",
       "energy-kcal_100g                                       0.393622   \n",
       "energy_100g                                            0.394014   \n",
       "fat_100g                                               0.171877   \n",
       "saturated-fat_100g                                     0.292478   \n",
       "carbohydrates_100g                                     0.529807   \n",
       "sugars_100g                                            1.000000   \n",
       "proteins_100g                                         -0.315899   \n",
       "salt_100g                                             -0.229545   \n",
       "sodium_100g                                           -0.229547   \n",
       "fruits-vegetables-nuts-estimate-from-ingredient...     0.022382   \n",
       "nutrition-score-fr_100g                                0.513179   \n",
       "\n",
       "                                                    proteins_100g  salt_100g  \\\n",
       "nutriscore_grade                                         0.064314  -0.381479   \n",
       "nutriscore_score                                        -0.035161   0.405859   \n",
       "energy-kcal_100g                                         0.210920   0.226857   \n",
       "energy_100g                                              0.205900   0.224284   \n",
       "fat_100g                                                 0.201097   0.320919   \n",
       "saturated-fat_100g                                       0.147157   0.165983   \n",
       "carbohydrates_100g                                      -0.131955  -0.049158   \n",
       "sugars_100g                                             -0.315899  -0.229545   \n",
       "proteins_100g                                            1.000000   0.325936   \n",
       "salt_100g                                                0.325936   1.000000   \n",
       "sodium_100g                                              0.325935   0.999990   \n",
       "fruits-vegetables-nuts-estimate-from-ingredient...      -0.057988  -0.006978   \n",
       "nutrition-score-fr_100g                                 -0.035161   0.405859   \n",
       "\n",
       "                                                    sodium_100g  \\\n",
       "nutriscore_grade                                      -0.381475   \n",
       "nutriscore_score                                       0.405862   \n",
       "energy-kcal_100g                                       0.226849   \n",
       "energy_100g                                            0.224284   \n",
       "fat_100g                                               0.320916   \n",
       "saturated-fat_100g                                     0.165980   \n",
       "carbohydrates_100g                                    -0.049145   \n",
       "sugars_100g                                           -0.229547   \n",
       "proteins_100g                                          0.325935   \n",
       "salt_100g                                              0.999990   \n",
       "sodium_100g                                            1.000000   \n",
       "fruits-vegetables-nuts-estimate-from-ingredient...    -0.006954   \n",
       "nutrition-score-fr_100g                                0.405862   \n",
       "\n",
       "                                                    fruits-vegetables-nuts-estimate-from-ingredients_100g  \\\n",
       "nutriscore_grade                                                                            -0.005428       \n",
       "nutriscore_score                                                                            -0.004788       \n",
       "energy-kcal_100g                                                                            -0.035643       \n",
       "energy_100g                                                                                 -0.036991       \n",
       "fat_100g                                                                                     0.019644       \n",
       "saturated-fat_100g                                                                          -0.017255       \n",
       "carbohydrates_100g                                                                          -0.058849       \n",
       "sugars_100g                                                                                  0.022382       \n",
       "proteins_100g                                                                               -0.057988       \n",
       "salt_100g                                                                                   -0.006978       \n",
       "sodium_100g                                                                                 -0.006954       \n",
       "fruits-vegetables-nuts-estimate-from-ingredient...                                           1.000000       \n",
       "nutrition-score-fr_100g                                                                     -0.004788       \n",
       "\n",
       "                                                    nutrition-score-fr_100g  \n",
       "nutriscore_grade                                                  -0.945694  \n",
       "nutriscore_score                                                   1.000000  \n",
       "energy-kcal_100g                                                   0.569372  \n",
       "energy_100g                                                        0.569924  \n",
       "fat_100g                                                           0.657657  \n",
       "saturated-fat_100g                                                 0.733035  \n",
       "carbohydrates_100g                                                 0.241416  \n",
       "sugars_100g                                                        0.513179  \n",
       "proteins_100g                                                     -0.035161  \n",
       "salt_100g                                                          0.405859  \n",
       "sodium_100g                                                        0.405862  \n",
       "fruits-vegetables-nuts-estimate-from-ingredient...                -0.004788  \n",
       "nutrition-score-fr_100g                                            1.000000  "
      ]
     },
     "execution_count": 13,
     "metadata": {},
     "output_type": "execute_result"
    }
   ],
   "source": [
    "df_corr = encod_df.corr(method = 'pearson')\n",
    "df_corr"
   ]
  },
  {
   "cell_type": "markdown",
   "id": "74fd95fd",
   "metadata": {
    "slideshow": {
     "slide_type": "subslide"
    }
   },
   "source": [
    "### Analyser la pertinence des variables retenues\n",
    "\n",
    "L'encodage de la variable cible permet de calculer ses corrélations:\n",
    "\n",
    "    * avec les variables explicatives importantes\n",
    "    * de supprimer les variables faiblement corrélées à la variable cible\n",
    "\n",
    "Les corrélations permettent d'éliminer les variables explicatives qui fournissent les mêmes informations\n",
    "\n",
    "    * on supprime les variables qui sont trop fortement corrélées entre elles\n",
    "\n"
   ]
  },
  {
   "cell_type": "markdown",
   "id": "29a8025b",
   "metadata": {
    "slideshow": {
     "slide_type": "subslide"
    }
   },
   "source": [
    "On a supprimé les colonnes:\n",
    "    \n",
    "    * fibres alimentaires, faiblement corrélées aux autres variables\n",
    "    * sodium trop liée au sel et ne figure pas sur les produits alimentaires\n",
    "    * nutriscores quantitatifs trop liés à la note nutriscore"
   ]
  },
  {
   "cell_type": "code",
   "execution_count": 14,
   "id": "b6370c9f",
   "metadata": {
    "scrolled": false,
    "slideshow": {
     "slide_type": "skip"
    }
   },
   "outputs": [
    {
     "name": "stdout",
     "output_type": "stream",
     "text": [
      "on a supprimé 1 colonnes\n"
     ]
    }
   ],
   "source": [
    "nb_colonnes = len(encod_df.columns)\n",
    "seuil_sign = 0.05\n",
    "col_list = [col for col in encod_df.columns if np.abs(df_corr['nutriscore_grade'][col]) > seuil_sign]\n",
    "###################################### on enlève l'encodage ###########################\n",
    "\n",
    "clean_df = clean_df[col_list]\n",
    "print(\"on a supprimé \" + str(nb_colonnes - len(clean_df.columns)) + \" colonnes\")"
   ]
  },
  {
   "cell_type": "code",
   "execution_count": 15,
   "id": "b0c6758f",
   "metadata": {
    "scrolled": false
   },
   "outputs": [],
   "source": [
    "# on ne peut pas supprimer uen colonne à la volée sur les dataframe il faut copier dans un autre df\n",
    "clean_df = clean_df.drop(['nutriscore_score','nutrition-score-fr_100g','sodium_100g'], axis = 1)"
   ]
  },
  {
   "cell_type": "markdown",
   "id": "d30ab7ca",
   "metadata": {
    "slideshow": {
     "slide_type": "slide"
    }
   },
   "source": [
    "## Préparation des données pour notre modèle"
   ]
  },
  {
   "cell_type": "markdown",
   "id": "4c534c6b",
   "metadata": {
    "slideshow": {
     "slide_type": "subslide"
    }
   },
   "source": [
    "### Analyse de la répartition des modalités de la note nutriscore"
   ]
  },
  {
   "cell_type": "code",
   "execution_count": 16,
   "id": "c33cf29d",
   "metadata": {
    "slideshow": {
     "slide_type": "fragment"
    }
   },
   "outputs": [
    {
     "data": {
      "image/png": "[encoded data removed]",
      "text/plain": [
       "<Figure size 432x288 with 1 Axes>"
      ]
     },
     "metadata": {
      "needs_background": "light"
     },
     "output_type": "display_data"
    }
   ],
   "source": [
    "sns.countplot(y = clean_df['nutriscore_grade'],\n",
    "              order = clean_df['nutriscore_grade'].value_counts(ascending=True).index).set_title('Effectifs des modalités de la note Nutriscore')\n",
    "plt.show()"
   ]
  },
  {
   "cell_type": "markdown",
   "id": "4196e0f0",
   "metadata": {
    "slideshow": {
     "slide_type": "fragment"
    }
   },
   "source": [
    "On choisit le down-sampling pour ne pas créer de nouvelles valeurs artificiellement:\n",
    "    \n",
    "    * on garde les enregistrements de la modalité la moins représentée\n",
    "    * on choisit aléatoirement autant de valeurs pour les autres modalités"
   ]
  },
  {
   "cell_type": "code",
   "execution_count": 17,
   "id": "17c39f01",
   "metadata": {
    "scrolled": false,
    "slideshow": {
     "slide_type": "skip"
    }
   },
   "outputs": [
    {
     "data": {
      "text/html": [
       "<div>\n",
       "<style scoped>\n",
       "    .dataframe tbody tr th:only-of-type {\n",
       "        vertical-align: middle;\n",
       "    }\n",
       "\n",
       "    .dataframe tbody tr th {\n",
       "        vertical-align: top;\n",
       "    }\n",
       "\n",
       "    .dataframe thead th {\n",
       "        text-align: right;\n",
       "    }\n",
       "</style>\n",
       "<table border=\"1\" class=\"dataframe\">\n",
       "  <thead>\n",
       "    <tr style=\"text-align: right;\">\n",
       "      <th></th>\n",
       "      <th>nutriscore_grade</th>\n",
       "      <th>energy-kcal_100g</th>\n",
       "      <th>energy_100g</th>\n",
       "      <th>fat_100g</th>\n",
       "      <th>saturated-fat_100g</th>\n",
       "      <th>carbohydrates_100g</th>\n",
       "      <th>sugars_100g</th>\n",
       "      <th>proteins_100g</th>\n",
       "      <th>salt_100g</th>\n",
       "    </tr>\n",
       "  </thead>\n",
       "  <tbody>\n",
       "    <tr>\n",
       "      <th>254006</th>\n",
       "      <td>a</td>\n",
       "      <td>250.0</td>\n",
       "      <td>1046.0</td>\n",
       "      <td>1.920000</td>\n",
       "      <td>0.0000</td>\n",
       "      <td>48.0800</td>\n",
       "      <td>5.7700</td>\n",
       "      <td>9.620000</td>\n",
       "      <td>1.0100</td>\n",
       "    </tr>\n",
       "    <tr>\n",
       "      <th>243802</th>\n",
       "      <td>a</td>\n",
       "      <td>94.0</td>\n",
       "      <td>393.0</td>\n",
       "      <td>4.120000</td>\n",
       "      <td>0.5900</td>\n",
       "      <td>3.5300</td>\n",
       "      <td>0.0000</td>\n",
       "      <td>10.590000</td>\n",
       "      <td>0.0300</td>\n",
       "    </tr>\n",
       "    <tr>\n",
       "      <th>90214</th>\n",
       "      <td>a</td>\n",
       "      <td>231.0</td>\n",
       "      <td>967.0</td>\n",
       "      <td>1.920000</td>\n",
       "      <td>0.0000</td>\n",
       "      <td>46.1500</td>\n",
       "      <td>3.8500</td>\n",
       "      <td>11.540000</td>\n",
       "      <td>0.9125</td>\n",
       "    </tr>\n",
       "    <tr>\n",
       "      <th>189613</th>\n",
       "      <td>a</td>\n",
       "      <td>280.0</td>\n",
       "      <td>1172.0</td>\n",
       "      <td>4.666700</td>\n",
       "      <td>0.6667</td>\n",
       "      <td>50.6667</td>\n",
       "      <td>2.6667</td>\n",
       "      <td>10.666700</td>\n",
       "      <td>0.8000</td>\n",
       "    </tr>\n",
       "    <tr>\n",
       "      <th>291675</th>\n",
       "      <td>a</td>\n",
       "      <td>250.0</td>\n",
       "      <td>1046.0</td>\n",
       "      <td>8.333333</td>\n",
       "      <td>0.0000</td>\n",
       "      <td>50.0000</td>\n",
       "      <td>0.0000</td>\n",
       "      <td>16.666667</td>\n",
       "      <td>0.0000</td>\n",
       "    </tr>\n",
       "    <tr>\n",
       "      <th>...</th>\n",
       "      <td>...</td>\n",
       "      <td>...</td>\n",
       "      <td>...</td>\n",
       "      <td>...</td>\n",
       "      <td>...</td>\n",
       "      <td>...</td>\n",
       "      <td>...</td>\n",
       "      <td>...</td>\n",
       "      <td>...</td>\n",
       "    </tr>\n",
       "    <tr>\n",
       "      <th>461429</th>\n",
       "      <td>e</td>\n",
       "      <td>469.0</td>\n",
       "      <td>1962.0</td>\n",
       "      <td>21.880000</td>\n",
       "      <td>6.2500</td>\n",
       "      <td>59.3800</td>\n",
       "      <td>37.5000</td>\n",
       "      <td>6.250000</td>\n",
       "      <td>0.7800</td>\n",
       "    </tr>\n",
       "    <tr>\n",
       "      <th>148147</th>\n",
       "      <td>e</td>\n",
       "      <td>357.0</td>\n",
       "      <td>1494.0</td>\n",
       "      <td>17.140000</td>\n",
       "      <td>11.4300</td>\n",
       "      <td>47.1400</td>\n",
       "      <td>34.2900</td>\n",
       "      <td>2.860000</td>\n",
       "      <td>0.8925</td>\n",
       "    </tr>\n",
       "    <tr>\n",
       "      <th>792410</th>\n",
       "      <td>e</td>\n",
       "      <td>309.0</td>\n",
       "      <td>1293.0</td>\n",
       "      <td>27.000000</td>\n",
       "      <td>11.0000</td>\n",
       "      <td>1.5000</td>\n",
       "      <td>1.5000</td>\n",
       "      <td>15.000000</td>\n",
       "      <td>2.1000</td>\n",
       "    </tr>\n",
       "    <tr>\n",
       "      <th>589363</th>\n",
       "      <td>e</td>\n",
       "      <td>482.0</td>\n",
       "      <td>2017.0</td>\n",
       "      <td>24.000000</td>\n",
       "      <td>12.3000</td>\n",
       "      <td>58.8000</td>\n",
       "      <td>28.7000</td>\n",
       "      <td>6.100000</td>\n",
       "      <td>1.1500</td>\n",
       "    </tr>\n",
       "    <tr>\n",
       "      <th>707640</th>\n",
       "      <td>e</td>\n",
       "      <td>482.0</td>\n",
       "      <td>2017.0</td>\n",
       "      <td>23.600000</td>\n",
       "      <td>11.4000</td>\n",
       "      <td>59.2000</td>\n",
       "      <td>22.2000</td>\n",
       "      <td>6.500000</td>\n",
       "      <td>0.4600</td>\n",
       "    </tr>\n",
       "  </tbody>\n",
       "</table>\n",
       "<p>167275 rows × 9 columns</p>\n",
       "</div>"
      ],
      "text/plain": [
       "       nutriscore_grade  energy-kcal_100g  energy_100g   fat_100g  \\\n",
       "254006                a             250.0       1046.0   1.920000   \n",
       "243802                a              94.0        393.0   4.120000   \n",
       "90214                 a             231.0        967.0   1.920000   \n",
       "189613                a             280.0       1172.0   4.666700   \n",
       "291675                a             250.0       1046.0   8.333333   \n",
       "...                 ...               ...          ...        ...   \n",
       "461429                e             469.0       1962.0  21.880000   \n",
       "148147                e             357.0       1494.0  17.140000   \n",
       "792410                e             309.0       1293.0  27.000000   \n",
       "589363                e             482.0       2017.0  24.000000   \n",
       "707640                e             482.0       2017.0  23.600000   \n",
       "\n",
       "        saturated-fat_100g  carbohydrates_100g  sugars_100g  proteins_100g  \\\n",
       "254006              0.0000             48.0800       5.7700       9.620000   \n",
       "243802              0.5900              3.5300       0.0000      10.590000   \n",
       "90214               0.0000             46.1500       3.8500      11.540000   \n",
       "189613              0.6667             50.6667       2.6667      10.666700   \n",
       "291675              0.0000             50.0000       0.0000      16.666667   \n",
       "...                    ...                 ...          ...            ...   \n",
       "461429              6.2500             59.3800      37.5000       6.250000   \n",
       "148147             11.4300             47.1400      34.2900       2.860000   \n",
       "792410             11.0000              1.5000       1.5000      15.000000   \n",
       "589363             12.3000             58.8000      28.7000       6.100000   \n",
       "707640             11.4000             59.2000      22.2000       6.500000   \n",
       "\n",
       "        salt_100g  \n",
       "254006     1.0100  \n",
       "243802     0.0300  \n",
       "90214      0.9125  \n",
       "189613     0.8000  \n",
       "291675     0.0000  \n",
       "...           ...  \n",
       "461429     0.7800  \n",
       "148147     0.8925  \n",
       "792410     2.1000  \n",
       "589363     1.1500  \n",
       "707640     0.4600  \n",
       "\n",
       "[167275 rows x 9 columns]"
      ]
     },
     "execution_count": 17,
     "metadata": {},
     "output_type": "execute_result"
    }
   ],
   "source": [
    "# taille de la classe moins représentée\n",
    "min_size = min([len(clean_df[clean_df['nutriscore_grade'] == grade]) for grade in ['a','b','c','d','e']])\n",
    "\n",
    "# équilibrage des classes\n",
    "frames = [clean_df[clean_df['nutriscore_grade'] == grade].sample(min_size) for grade in ['a','b','c','d','e']]\n",
    "\n",
    "# nouveau dataframe\n",
    "down_samp = pd.concat(frames)\n",
    "down_samp"
   ]
  },
  {
   "cell_type": "markdown",
   "id": "1d539d62",
   "metadata": {
    "slideshow": {
     "slide_type": "subslide"
    }
   },
   "source": [
    "### Création des jeux de test et d'entraînement\n",
    "\n",
    "On stratifie lors du split pour avoir une répartition équitables des modalités lors de l'entraîenement"
   ]
  },
  {
   "cell_type": "code",
   "execution_count": 18,
   "id": "d55c932a",
   "metadata": {
    "scrolled": false,
    "slideshow": {
     "slide_type": "skip"
    }
   },
   "outputs": [],
   "source": [
    "\n",
    "\n",
    "# attention à ne pas intégrer la variable cible dans le train\n",
    "down_samp_X = down_samp.drop('nutriscore_grade',axis=1)\n",
    "down_samp_y = down_samp['nutriscore_grade']\n",
    "\n",
    "X_train, X_test, y_train, y_test = train_test_split(\n",
    "    down_samp_X, \n",
    "    down_samp_y, \n",
    "    test_size=0.3, \n",
    "    random_state=42,\n",
    "    # on rajoute le stratify pour être sûr de la répartition équitable de chaque classe\n",
    "    stratify=down_samp['nutriscore_grade'])\n",
    "\n"
   ]
  },
  {
   "cell_type": "markdown",
   "id": "61a38214",
   "metadata": {
    "slideshow": {
     "slide_type": "slide"
    }
   },
   "source": [
    "## Création du pipeline"
   ]
  },
  {
   "cell_type": "markdown",
   "id": "87200228",
   "metadata": {
    "slideshow": {
     "slide_type": "subslide"
    }
   },
   "source": [
    "### Le pre-processing du pipeline"
   ]
  },
  {
   "cell_type": "code",
   "execution_count": 19,
   "id": "513a4d92",
   "metadata": {
    "scrolled": false,
    "slideshow": {
     "slide_type": "skip"
    }
   },
   "outputs": [],
   "source": [
    "# la stratégie est celle ce la médiane car on a pas réussi à déterminer si la distribution est normale\n",
    "fill_strat = 'median'"
   ]
  },
  {
   "cell_type": "markdown",
   "id": "40658ab6",
   "metadata": {
    "slideshow": {
     "slide_type": "subslide"
    }
   },
   "source": [
    "Le pre-processing comprend, le remplissage des valeurs manquantes:\n",
    "    \n",
    "    * On remplit les valeurs manquantes avec le critère de la médiane, plus général que la moyenne\n",
    "\n",
    "La mise à l'échelle des varibles explicatives:\n",
    "\n",
    "    * On choisit le critère du Min-Max, plus général que le centrage et la réduction"
   ]
  },
  {
   "cell_type": "markdown",
   "id": "7aa5e0aa",
   "metadata": {
    "slideshow": {
     "slide_type": "subslide"
    }
   },
   "source": [
    "### Le choix du modèle\n",
    "\n",
    "On teste 3 modèles:\n",
    "\n",
    "    * DecisionTreeClassifier\n",
    "    * RandomForestClassifier\n",
    "    * KNeighborsClassifier\n",
    "\n",
    "On étudie l'effet d'un hyper-paramètre sur la qualité de l'entraînement:\n",
    "\n",
    "    * La profondeur de(s) arbre(s) pour DecisionTree et RandomForest\n",
    "    * Le nombre de voisins retenus pour KNeighbors\n",
    "    \n",
    "Les hyper-paramètres par défaut provoquent le sur-entraînement"
   ]
  },
  {
   "cell_type": "code",
   "execution_count": 20,
   "id": "745aa375",
   "metadata": {
    "scrolled": false,
    "slideshow": {
     "slide_type": "skip"
    }
   },
   "outputs": [],
   "source": [
    "# treeDecisionClassifier\n",
    "\n",
    "max_steps = 20\n",
    "param_range = range(2,max_steps+1)\n",
    "\n",
    "prec_score_pred_DTC =[]\n",
    "prec_score_train_DTC = []\n",
    "\n",
    "for i in param_range:\n",
    "    # création du pipeline\n",
    "    nutri_pipe = Pipeline([\n",
    "\n",
    "        ##################### fonctions de preprocessing du pipeline ##################\n",
    "        ('filler', SimpleImputer(missing_values=np.nan, strategy=fill_strat)), \n",
    "        ('standardizer', StandardScaler()),\n",
    "\n",
    "        ####################### spécification du modèle #################################\n",
    "\n",
    "        ('dtc', DecisionTreeClassifier(max_depth= i, random_state=0))])\n",
    "    \n",
    "    nutri_pipe.fit(X_train,y_train)\n",
    "    \n",
    "    y_pred=nutri_pipe.predict(X_test)\n",
    "    y_comp=nutri_pipe.predict(X_train)\n",
    "    # RandomForestClassifier\n",
    "    # pas de déséquilibre de classe donc on peut utiliser sans weighted\n",
    "    prec_score_pred_DTC.append(metrics.f1_score(y_pred, y_test, average='macro'))\n",
    "    prec_score_train_DTC.append(metrics.f1_score(y_comp, y_train,average='macro'))"
   ]
  },
  {
   "cell_type": "code",
   "execution_count": 21,
   "id": "e2265b84",
   "metadata": {
    "scrolled": false,
    "slideshow": {
     "slide_type": "subslide"
    }
   },
   "outputs": [
    {
     "data": {
      "image/png": "[encoded data removed]",
      "text/plain": [
       "<Figure size 1080x720 with 1 Axes>"
      ]
     },
     "metadata": {
      "needs_background": "light"
     },
     "output_type": "display_data"
    },
    {
     "name": "stdout",
     "output_type": "stream",
     "text": [
      "Une hauteur d'arbre entre 10 et 15 pour le DecisionTree\n"
     ]
    }
   ],
   "source": [
    "plt.rc('figure', figsize=(15, 10))\n",
    "prec_dict ={'DecisionTree Test': prec_score_pred_DTC,\n",
    "            'DecisionTree Train': prec_score_train_DTC,}\n",
    "\n",
    "\n",
    "fig, ax = plt.subplots()\n",
    "\n",
    "\n",
    "ax.set_title('F1-score du DecisionTree en fonction de la hauteur de l\\'arbre')\n",
    "ax.set_xlabel('Hauteur de l\\'arbre')\n",
    "ax.set_ylabel('F1-score')\n",
    "\n",
    "\n",
    "for key in prec_dict.keys():\n",
    "    \n",
    "    plt.plot(param_range,prec_dict[key],label=key)\n",
    "\n",
    "\n",
    "plt.xticks(np.arange(min(param_range), max(param_range)+1))\n",
    "plt.legend()\n",
    "\n",
    "plt.show()\n",
    "print(\"Une hauteur d'arbre entre 10 et 15 pour le DecisionTree\")\n"
   ]
  },
  {
   "cell_type": "code",
   "execution_count": 23,
   "id": "652b49d3",
   "metadata": {
    "scrolled": false,
    "slideshow": {
     "slide_type": "skip"
    }
   },
   "outputs": [],
   "source": [
    "max_steps = 30\n",
    "param_range = range(2,max_steps+1)\n",
    "\n",
    "prec_score_pred_RFC =[]\n",
    "prec_score_train_RFC = []\n",
    "\n",
    "for i in param_range:\n",
    "    # création du pipeline\n",
    "    nutri_pipe = Pipeline([\n",
    "\n",
    "        ##################### fonctions de preprocessing du pipeline ##################\n",
    "        ('filler', SimpleImputer(missing_values=np.nan, strategy=fill_strat)), \n",
    "        ('standardizer', MinMaxScaler()),\n",
    "\n",
    "        ####################### spécification du modèle #################################\n",
    "\n",
    "        ('rfc', RandomForestClassifier(max_depth= i, random_state=0))])\n",
    "    \n",
    "    nutri_pipe.fit(X_train,y_train)\n",
    "    \n",
    "    y_pred=nutri_pipe.predict(X_test)\n",
    "    y_comp=nutri_pipe.predict(X_train)\n",
    "    # RandomForestClassifier\n",
    "    # pas de déséquilibre de classe donc on peut utiliser sans weighted\n",
    "    prec_score_pred_RFC.append(metrics.f1_score(y_pred, y_test, average='macro'))\n",
    "    prec_score_train_RFC.append(metrics.f1_score(y_comp, y_train,average='macro'))"
   ]
  },
  {
   "cell_type": "code",
   "execution_count": 24,
   "id": "d38f808e",
   "metadata": {
    "scrolled": false,
    "slideshow": {
     "slide_type": "subslide"
    }
   },
   "outputs": [
    {
     "data": {
      "image/png": "[encoded data removed]",
      "text/plain": [
       "<Figure size 1080x720 with 1 Axes>"
      ]
     },
     "metadata": {
      "needs_background": "light"
     },
     "output_type": "display_data"
    },
    {
     "name": "stdout",
     "output_type": "stream",
     "text": [
      "Une hauteur d'arbre entre 10 et 15 pour le RandomForest\n"
     ]
    }
   ],
   "source": [
    "plt.rc('figure', figsize=(15, 10))\n",
    "prec_dict ={'RandomForest Test': prec_score_pred_RFC,\n",
    "            'RandomForest Train': prec_score_train_RFC,}\n",
    "\n",
    "\n",
    "fig, ax = plt.subplots()\n",
    "\n",
    "\n",
    "ax.set_title('F1-score du RandomForest en fonction de la hauteur de l\\'arbre')\n",
    "ax.set_xlabel('Hauteur de l\\'arbre')\n",
    "ax.set_ylabel('F1-score')\n",
    "\n",
    "\n",
    "for key in prec_dict.keys():\n",
    "    \n",
    "    plt.plot(param_range,prec_dict[key],label=key)\n",
    "\n",
    "\n",
    "plt.xticks(np.arange(min(param_range), max(param_range)+1))\n",
    "plt.legend()\n",
    "\n",
    "plt.show()\n",
    "print(\"Une hauteur d'arbre entre 10 et 15 pour le RandomForest\")"
   ]
  },
  {
   "cell_type": "code",
   "execution_count": 26,
   "id": "8b9ff1f8",
   "metadata": {
    "scrolled": false,
    "slideshow": {
     "slide_type": "skip"
    }
   },
   "outputs": [],
   "source": [
    "\n",
    "\n",
    "max_steps = 20\n",
    "param_range = range(2,max_steps+1)\n",
    "\n",
    "prec_score_pred_KNC =[]\n",
    "prec_score_train_KNC = []\n",
    "\n",
    "for i in param_range:\n",
    "    # création du pipeline\n",
    "    nutri_pipe = Pipeline([\n",
    "\n",
    "        ##################### fonctions de preprocessing du pipeline ##################\n",
    "        ('filler', SimpleImputer(missing_values=np.nan, strategy=fill_strat)), \n",
    "        ('standardizer', StandardScaler()),\n",
    "\n",
    "        ####################### spécification du modèle #################################\n",
    "        # pas de random_state pour l'algo Kneighbors \n",
    "        ('knc', KNeighborsClassifier(n_neighbors= i))])\n",
    "    \n",
    "    nutri_pipe.fit(X_train,y_train)\n",
    "    \n",
    "    y_pred=nutri_pipe.predict(X_test)\n",
    "    y_comp=nutri_pipe.predict(X_train)\n",
    "    # RandomForestClassifier\n",
    "    # pas de déséquilibre de classe donc on peut utiliser sans weighted\n",
    "    prec_score_pred_KNC.append(metrics.f1_score(y_pred, y_test, average='macro'))\n",
    "    prec_score_train_KNC.append(metrics.f1_score(y_comp, y_train,average='macro'))"
   ]
  },
  {
   "cell_type": "code",
   "execution_count": 27,
   "id": "976eb564",
   "metadata": {
    "scrolled": false,
    "slideshow": {
     "slide_type": "subslide"
    }
   },
   "outputs": [
    {
     "data": {
      "image/png": "[encoded data removed]",
      "text/plain": [
       "<Figure size 1080x720 with 1 Axes>"
      ]
     },
     "metadata": {
      "needs_background": "light"
     },
     "output_type": "display_data"
    },
    {
     "name": "stdout",
     "output_type": "stream",
     "text": [
      "13 voisins plus proches pour le KNeighbors\n"
     ]
    }
   ],
   "source": [
    "plt.rc('figure', figsize=(15, 10))\n",
    "prec_dict ={'KNeighbors Test': prec_score_pred_KNC,\n",
    "            'KNeighbors Train': prec_score_train_KNC,}\n",
    "\n",
    "\n",
    "fig, ax = plt.subplots()\n",
    "\n",
    "\n",
    "ax.set_title('F1-score en fonction du nombre de voisins')\n",
    "ax.set_xlabel('Nombre de voisins')\n",
    "ax.set_ylabel('F1-score')\n",
    "\n",
    "\n",
    "for key in prec_dict.keys():\n",
    "    \n",
    "    plt.plot(param_range,prec_dict[key],label=key)\n",
    "\n",
    "\n",
    "plt.xticks(np.arange(min(param_range), max(param_range)+1))\n",
    "plt.legend()\n",
    "\n",
    "plt.show()\n",
    "print(\"13 voisins plus proches pour le KNeighbors\")"
   ]
  },
  {
   "cell_type": "markdown",
   "id": "66aa94a7",
   "metadata": {
    "slideshow": {
     "slide_type": "fragment"
    }
   },
   "source": [
    "Le modèle de type KNeighbors offre de meilleurs scores:\n",
    "\n",
    "    * Il est moins facile d'interprétation\n",
    "    * Moins de contrôles sur des modèles complexes\n",
    "    "
   ]
  },
  {
   "cell_type": "code",
   "execution_count": 28,
   "id": "b47ccf7f",
   "metadata": {
    "slideshow": {
     "slide_type": "skip"
    }
   },
   "outputs": [
    {
     "data": {
      "text/plain": [
       "Pipeline(steps=[('filler', SimpleImputer(strategy='median')),\n",
       "                ('standardizer', MinMaxScaler()),\n",
       "                ('rfc', RandomForestClassifier(max_depth=13, random_state=0))])"
      ]
     },
     "execution_count": 28,
     "metadata": {},
     "output_type": "execute_result"
    }
   ],
   "source": [
    "nutri_pipe = Pipeline([\n",
    "\n",
    "    ##################### fonctions de preprocessing du pipeline ##################\n",
    "    ('filler', SimpleImputer(missing_values=np.nan, strategy='median')), \n",
    "    ('standardizer', MinMaxScaler()),\n",
    "\n",
    "    ####################### spécification du modèle #################################\n",
    "\n",
    "    ('rfc', RandomForestClassifier(max_depth= 13, random_state=0))])\n",
    "\n",
    "# Entraînement du modèle\n",
    "nutri_pipe.fit(X_train,y_train)\n"
   ]
  },
  {
   "cell_type": "markdown",
   "id": "d3f71a2e",
   "metadata": {
    "slideshow": {
     "slide_type": "subslide"
    }
   },
   "source": [
    "Le RandomForest a été retenu:\n",
    "    \n",
    "    * Plus facile à comprendre\n",
    "    * Meilleurs scores que le DecisionTree\n",
    "    \n",
    "Il faudrait tester l'ensemble des combinaisons d'hyper-paramètres, avec GridSearch"
   ]
  },
  {
   "cell_type": "code",
   "execution_count": 29,
   "id": "1fe0c7c2",
   "metadata": {
    "slideshow": {
     "slide_type": "fragment"
    }
   },
   "outputs": [
    {
     "data": {
      "image/png": "[encoded data removed]",
      "text/plain": [
       "<Figure size 504x504 with 1 Axes>"
      ]
     },
     "metadata": {},
     "output_type": "display_data"
    }
   ],
   "source": [
    " def display_feat_imp_rfc(rfc):\n",
    "    feat_imp = rfc.feature_importances_\n",
    "    df_featimp = pd.DataFrame(feat_imp, columns={\"Feature Importance\"}, \n",
    "                              index=[\"energy-kcal_100g\", \"energy_100g\", \"fat_100g\", \"satured_fat_100g\", \n",
    "                                     \"carbohydrates_100g\", \"sugars_100g\", \"proteins_100g\", \"salt_100g\"])                          \n",
    "    df_featimp[\"Feature Name\"] = X_train.columns\n",
    "    df_featimp = df_featimp.sort_values(by=\"Feature Importance\", ascending=False)\n",
    "    df_featimp.plot.pie(y=\"Feature Importance\", x=\"Feature Name\",\n",
    "                        title=\"Feature Importance dans le modèle retenu\",legend=None, label=\"\", autopct='%1.1f%%' ,figsize=(7,7))\n",
    "\n",
    "    \n",
    "display_feat_imp_rfc(nutri_pipe[\"rfc\"])"
   ]
  },
  {
   "cell_type": "markdown",
   "id": "65510c81",
   "metadata": {
    "slideshow": {
     "slide_type": "slide"
    }
   },
   "source": [
    "## Démonstration !"
   ]
  },
  {
   "cell_type": "markdown",
   "id": "3c16ad32",
   "metadata": {
    "slideshow": {
     "slide_type": "slide"
    }
   },
   "source": [
    "# Conclusion\n",
    "\n",
    "Notre modèle reste perfectible:\n",
    "    \n",
    "    * Erreurs de prédictions fréquentes\n",
    "    * Le modèle est coûteux en ressources \n",
    "\n",
    "Pour l'améliorer nous pourrions mettre en place:\n",
    "\n",
    "    * Un questionnaire de satisfaction\n",
    "    * Alterner les modèles\n",
    "    * Combiner les modèles\n",
    "\n",
    "Le retour de l'utilisateur permettra de ré-ajuster le modèle"
   ]
  }
 ],
 "metadata": {
  "celltoolbar": "Diaporama",
  "interpreter": {
   "hash": "1acf3f5217249f556e1760506368f99d32b06e91e6a965b9572648af6df66407"
  },
  "kernelspec": {
   "display_name": "Python 3.8.10 64-bit ('projet-1-groupe-4-31aH1dY4': pipenv)",
   "language": "python",
   "name": "python3810jvsc74a57bd01acf3f5217249f556e1760506368f99d32b06e91e6a965b9572648af6df66407"
  },
  "language_info": {
   "codemirror_mode": {
    "name": "ipython",
    "version": 3
   },
   "file_extension": ".py",
   "mimetype": "text/x-python",
   "name": "python",
   "nbconvert_exporter": "python",
   "pygments_lexer": "ipython3",
   "version": "3.8.10"
  }
 },
 "nbformat": 4,
 "nbformat_minor": 5
}
